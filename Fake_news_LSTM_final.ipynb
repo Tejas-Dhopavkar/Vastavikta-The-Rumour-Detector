{
  "nbformat": 4,
  "nbformat_minor": 0,
  "metadata": {
    "colab": {
      "name": "Fake_news_LSTM_final",
      "provenance": [],
      "toc_visible": true
    },
    "kernelspec": {
      "name": "python3",
      "display_name": "Python 3"
    },
    "accelerator": "GPU"
  },
  "cells": [
    {
      "cell_type": "code",
      "metadata": {
        "id": "SyexHtbqGSa7"
      },
      "source": [
        "#Basic libraries\n",
        "import numpy as np\n",
        "import pandas as pd\n",
        "import matplotlib.pyplot as plt\n",
        "import seaborn as sns\n",
        "import cv2\n",
        "from sklearn.metrics import confusion_matrix\n",
        "from bs4 import BeautifulSoup\n",
        "import time\n",
        "import requests\n",
        "import urllib.request"
      ],
      "execution_count": null,
      "outputs": []
    },
    {
      "cell_type": "code",
      "metadata": {
        "id": "1I8-NedWJtO2"
      },
      "source": [
        "import tensorflow as tf\n",
        "from tensorflow.keras.preprocessing.text import Tokenizer\n",
        "from tensorflow.keras.preprocessing.sequence import pad_sequences\n",
        "from tensorflow.keras.layers import Embedding\n",
        "from tensorflow.keras.layers import LSTM\n",
        "from tensorflow.keras.layers import Activation\n",
        "from tensorflow.keras.layers import Dropout\n",
        "from tensorflow.keras.models import Model\n",
        "from tensorflow.keras.models import Sequential\n",
        "from tensorflow.keras.layers import Dense\n",
        "from sklearn.model_selection import train_test_split"
      ],
      "execution_count": null,
      "outputs": []
    },
    {
      "cell_type": "code",
      "metadata": {
        "id": "PAaAtTviFE8r"
      },
      "source": [
        "%reload_ext tensorboard"
      ],
      "execution_count": null,
      "outputs": []
    },
    {
      "cell_type": "markdown",
      "metadata": {
        "id": "ngunCLAOH4dV"
      },
      "source": [
        "# **Data Preprocessing**"
      ]
    },
    {
      "cell_type": "code",
      "metadata": {
        "id": "qm7wGNfZJ1wP",
        "colab": {
          "base_uri": "https://localhost:8080/"
        },
        "outputId": "e39c8ad0-427e-4c60-a319-033da4f134ed"
      },
      "source": [
        "''' real = pd.read_csv(\"True.csv\")\n",
        "fake = pd.read_csv(\"Fake.csv\") '''\n",
        "\n",
        "fake = pd.read_csv(r'/content/drive/MyDrive/Fake news dataset/Fake.csv')\n",
        "real = pd.read_csv(r'/content/drive/MyDrive/Fake news dataset/True.csv')\n",
        "print(\"Real news:\\n\")\n",
        "print(real.head())\n",
        "print(\"\\nFake news:\\n\")\n",
        "print(fake.head())"
      ],
      "execution_count": null,
      "outputs": [
        {
          "output_type": "stream",
          "text": [
            "Real news:\n",
            "\n",
            "                                               title  ...                date\n",
            "0  As U.S. budget fight looms, Republicans flip t...  ...  December 31, 2017 \n",
            "1  U.S. military to accept transgender recruits o...  ...  December 29, 2017 \n",
            "2  Senior U.S. Republican senator: 'Let Mr. Muell...  ...  December 31, 2017 \n",
            "3  FBI Russia probe helped by Australian diplomat...  ...  December 30, 2017 \n",
            "4  Trump wants Postal Service to charge 'much mor...  ...  December 29, 2017 \n",
            "\n",
            "[5 rows x 4 columns]\n",
            "\n",
            "Fake news:\n",
            "\n",
            "                                               title  ...               date\n",
            "0   Donald Trump Sends Out Embarrassing New Year’...  ...  December 31, 2017\n",
            "1   Drunk Bragging Trump Staffer Started Russian ...  ...  December 31, 2017\n",
            "2   Sheriff David Clarke Becomes An Internet Joke...  ...  December 30, 2017\n",
            "3   Trump Is So Obsessed He Even Has Obama’s Name...  ...  December 29, 2017\n",
            "4   Pope Francis Just Called Out Donald Trump Dur...  ...  December 25, 2017\n",
            "\n",
            "[5 rows x 4 columns]\n"
          ],
          "name": "stdout"
        }
      ]
    },
    {
      "cell_type": "code",
      "metadata": {
        "id": "Gr3tjPzMzva2",
        "colab": {
          "base_uri": "https://localhost:8080/"
        },
        "outputId": "80b5fb3c-099a-4e04-f2e0-362ba9d15b26"
      },
      "source": [
        "fake['fake'] = 1\n",
        "real['fake'] = 0\n",
        "combined = pd.concat([fake,real])\n",
        "print(combined.head(10))\n",
        "combined.to_csv(\"Combined_dataset.csv\")"
      ],
      "execution_count": null,
      "outputs": [
        {
          "output_type": "stream",
          "text": [
            "                                               title  ... fake\n",
            "0   Donald Trump Sends Out Embarrassing New Year’...  ...    1\n",
            "1   Drunk Bragging Trump Staffer Started Russian ...  ...    1\n",
            "2   Sheriff David Clarke Becomes An Internet Joke...  ...    1\n",
            "3   Trump Is So Obsessed He Even Has Obama’s Name...  ...    1\n",
            "4   Pope Francis Just Called Out Donald Trump Dur...  ...    1\n",
            "5   Racist Alabama Cops Brutalize Black Boy While...  ...    1\n",
            "6   Fresh Off The Golf Course, Trump Lashes Out A...  ...    1\n",
            "7   Trump Said Some INSANELY Racist Stuff Inside ...  ...    1\n",
            "8   Former CIA Director Slams Trump Over UN Bully...  ...    1\n",
            "9   WATCH: Brand-New Pro-Trump Ad Features So Muc...  ...    1\n",
            "\n",
            "[10 rows x 5 columns]\n"
          ],
          "name": "stdout"
        }
      ]
    },
    {
      "cell_type": "code",
      "metadata": {
        "id": "NrgShVnhXmgd"
      },
      "source": [
        "from google.colab import drive\n",
        "drive.mount('/content/drive')"
      ],
      "execution_count": null,
      "outputs": []
    },
    {
      "cell_type": "code",
      "metadata": {
        "colab": {
          "base_uri": "https://localhost:8080/",
          "height": 346
        },
        "id": "-Xrjg_2qbIZE",
        "outputId": "5d03b25c-08f4-4fa4-abfe-96d680007e95"
      },
      "source": [
        "combined.head(10)"
      ],
      "execution_count": null,
      "outputs": [
        {
          "output_type": "execute_result",
          "data": {
            "text/html": [
              "<div>\n",
              "<style scoped>\n",
              "    .dataframe tbody tr th:only-of-type {\n",
              "        vertical-align: middle;\n",
              "    }\n",
              "\n",
              "    .dataframe tbody tr th {\n",
              "        vertical-align: top;\n",
              "    }\n",
              "\n",
              "    .dataframe thead th {\n",
              "        text-align: right;\n",
              "    }\n",
              "</style>\n",
              "<table border=\"1\" class=\"dataframe\">\n",
              "  <thead>\n",
              "    <tr style=\"text-align: right;\">\n",
              "      <th></th>\n",
              "      <th>title</th>\n",
              "      <th>text</th>\n",
              "      <th>subject</th>\n",
              "      <th>date</th>\n",
              "      <th>fake</th>\n",
              "    </tr>\n",
              "  </thead>\n",
              "  <tbody>\n",
              "    <tr>\n",
              "      <th>0</th>\n",
              "      <td>Donald Trump Sends Out Embarrassing New Year’...</td>\n",
              "      <td>Donald Trump just couldn t wish all Americans ...</td>\n",
              "      <td>News</td>\n",
              "      <td>December 31, 2017</td>\n",
              "      <td>1</td>\n",
              "    </tr>\n",
              "    <tr>\n",
              "      <th>1</th>\n",
              "      <td>Drunk Bragging Trump Staffer Started Russian ...</td>\n",
              "      <td>House Intelligence Committee Chairman Devin Nu...</td>\n",
              "      <td>News</td>\n",
              "      <td>December 31, 2017</td>\n",
              "      <td>1</td>\n",
              "    </tr>\n",
              "    <tr>\n",
              "      <th>2</th>\n",
              "      <td>Sheriff David Clarke Becomes An Internet Joke...</td>\n",
              "      <td>On Friday, it was revealed that former Milwauk...</td>\n",
              "      <td>News</td>\n",
              "      <td>December 30, 2017</td>\n",
              "      <td>1</td>\n",
              "    </tr>\n",
              "    <tr>\n",
              "      <th>3</th>\n",
              "      <td>Trump Is So Obsessed He Even Has Obama’s Name...</td>\n",
              "      <td>On Christmas day, Donald Trump announced that ...</td>\n",
              "      <td>News</td>\n",
              "      <td>December 29, 2017</td>\n",
              "      <td>1</td>\n",
              "    </tr>\n",
              "    <tr>\n",
              "      <th>4</th>\n",
              "      <td>Pope Francis Just Called Out Donald Trump Dur...</td>\n",
              "      <td>Pope Francis used his annual Christmas Day mes...</td>\n",
              "      <td>News</td>\n",
              "      <td>December 25, 2017</td>\n",
              "      <td>1</td>\n",
              "    </tr>\n",
              "    <tr>\n",
              "      <th>5</th>\n",
              "      <td>Racist Alabama Cops Brutalize Black Boy While...</td>\n",
              "      <td>The number of cases of cops brutalizing and ki...</td>\n",
              "      <td>News</td>\n",
              "      <td>December 25, 2017</td>\n",
              "      <td>1</td>\n",
              "    </tr>\n",
              "    <tr>\n",
              "      <th>6</th>\n",
              "      <td>Fresh Off The Golf Course, Trump Lashes Out A...</td>\n",
              "      <td>Donald Trump spent a good portion of his day a...</td>\n",
              "      <td>News</td>\n",
              "      <td>December 23, 2017</td>\n",
              "      <td>1</td>\n",
              "    </tr>\n",
              "    <tr>\n",
              "      <th>7</th>\n",
              "      <td>Trump Said Some INSANELY Racist Stuff Inside ...</td>\n",
              "      <td>In the wake of yet another court decision that...</td>\n",
              "      <td>News</td>\n",
              "      <td>December 23, 2017</td>\n",
              "      <td>1</td>\n",
              "    </tr>\n",
              "    <tr>\n",
              "      <th>8</th>\n",
              "      <td>Former CIA Director Slams Trump Over UN Bully...</td>\n",
              "      <td>Many people have raised the alarm regarding th...</td>\n",
              "      <td>News</td>\n",
              "      <td>December 22, 2017</td>\n",
              "      <td>1</td>\n",
              "    </tr>\n",
              "    <tr>\n",
              "      <th>9</th>\n",
              "      <td>WATCH: Brand-New Pro-Trump Ad Features So Muc...</td>\n",
              "      <td>Just when you might have thought we d get a br...</td>\n",
              "      <td>News</td>\n",
              "      <td>December 21, 2017</td>\n",
              "      <td>1</td>\n",
              "    </tr>\n",
              "  </tbody>\n",
              "</table>\n",
              "</div>"
            ],
            "text/plain": [
              "                                               title  ... fake\n",
              "0   Donald Trump Sends Out Embarrassing New Year’...  ...    1\n",
              "1   Drunk Bragging Trump Staffer Started Russian ...  ...    1\n",
              "2   Sheriff David Clarke Becomes An Internet Joke...  ...    1\n",
              "3   Trump Is So Obsessed He Even Has Obama’s Name...  ...    1\n",
              "4   Pope Francis Just Called Out Donald Trump Dur...  ...    1\n",
              "5   Racist Alabama Cops Brutalize Black Boy While...  ...    1\n",
              "6   Fresh Off The Golf Course, Trump Lashes Out A...  ...    1\n",
              "7   Trump Said Some INSANELY Racist Stuff Inside ...  ...    1\n",
              "8   Former CIA Director Slams Trump Over UN Bully...  ...    1\n",
              "9   WATCH: Brand-New Pro-Trump Ad Features So Muc...  ...    1\n",
              "\n",
              "[10 rows x 5 columns]"
            ]
          },
          "metadata": {
            "tags": []
          },
          "execution_count": 6
        }
      ]
    },
    {
      "cell_type": "code",
      "metadata": {
        "colab": {
          "base_uri": "https://localhost:8080/"
        },
        "id": "0Ith2rHvSjmV",
        "outputId": "fc3af3d9-77a5-4bb9-df8c-5b91b748f983"
      },
      "source": [
        "combined.shape"
      ],
      "execution_count": null,
      "outputs": [
        {
          "output_type": "execute_result",
          "data": {
            "text/plain": [
              "(44898, 5)"
            ]
          },
          "metadata": {
            "tags": []
          },
          "execution_count": 7
        }
      ]
    },
    {
      "cell_type": "markdown",
      "metadata": {
        "id": "1ATVtMCIH9p5"
      },
      "source": [
        "# **Data Scrapping**"
      ]
    },
    {
      "cell_type": "code",
      "metadata": {
        "id": "WjxRXHTPscRW"
      },
      "source": [
        "authors = []\n",
        "dates = []\n",
        "source = []\n",
        "statements = []\n",
        "targets = []"
      ],
      "execution_count": null,
      "outputs": []
    },
    {
      "cell_type": "code",
      "metadata": {
        "id": "zMukeJ-isn51"
      },
      "source": [
        "def scrapper(page_num):\n",
        "  page_number = str(page_num)\n",
        "  URL = 'https://www.politifact.com/factchecks/list/?page='+page_number\n",
        "  webpage = requests.get(URL)\n",
        "  soup = BeautifulSoup(webpage.text, 'html.parser')\n",
        "  statement_footer = soup.find_all('footer', attrs = {'class':'m-statement__footer'})\n",
        "  statement_quote = soup.find_all('div', attrs = {'class':'m-statement__quote'})\n",
        "  statement_meta = soup.find_all('div', attrs = {'class':'m-statement__meta'})\n",
        "  target = soup.find_all('div', attrs = {'class':'m-statement__meter'})\n",
        "\n",
        "  for i in statement_footer:\n",
        "    link1 = i.text.strip()\n",
        "    name_and_date = link1.split()\n",
        "    first_name = name_and_date[1]\n",
        "    last_name = name_and_date[2]\n",
        "    full_name = first_name + ' ' + last_name\n",
        "    month = name_and_date[4]\n",
        "    day = name_and_date[5]\n",
        "    year = name_and_date[6]\n",
        "    date = day+' '+month+' '+year\n",
        "    dates.append(date)\n",
        "    authors.append(full_name)\n",
        "\n",
        "  for i in statement_quote:\n",
        "    link2 = i.find_all('a')\n",
        "    statement_text = link2[0].text.strip()\n",
        "    statements.append(statement_text)\n",
        "\n",
        "  for i in statement_meta:\n",
        "    link3 = i.find_all('a')\n",
        "    source_text = link3[0].text.strip()\n",
        "    source.append(source_text)\n",
        "\n",
        "  for i in target:\n",
        "    link4 = i.find('div', attrs={'class': 'c-image'}).find('img').get('alt')\n",
        "    targets.append(link4)\n",
        "\n",
        "    \n"
      ],
      "execution_count": null,
      "outputs": []
    },
    {
      "cell_type": "code",
      "metadata": {
        "id": "hMXxrdB8P8VR"
      },
      "source": [
        "for i in range(0, 52):\n",
        "  scrapper(i)"
      ],
      "execution_count": null,
      "outputs": []
    },
    {
      "cell_type": "code",
      "metadata": {
        "id": "L-6Q_BIGQQvy"
      },
      "source": [
        "df = pd.DataFrame(columns=['author','statement','source', 'date', 'target'])\n",
        "df['author'] = authors\n",
        "df['statement'] = statements\n",
        "df['source'] = source\n",
        "df['date'] = dates\n",
        "df['target'] = targets"
      ],
      "execution_count": null,
      "outputs": []
    },
    {
      "cell_type": "code",
      "metadata": {
        "id": "06nM3ZpS_bHT"
      },
      "source": [
        "def getBinary(text):\n",
        "  if text=='true' or text=='mostly-true':\n",
        "    return 0\n",
        "  else:\n",
        "    return 1"
      ],
      "execution_count": null,
      "outputs": []
    },
    {
      "cell_type": "code",
      "metadata": {
        "id": "DPUteDdB_2gj"
      },
      "source": [
        "df['fake'] = df['target'].apply(getBinary)"
      ],
      "execution_count": null,
      "outputs": []
    },
    {
      "cell_type": "code",
      "metadata": {
        "colab": {
          "base_uri": "https://localhost:8080/"
        },
        "id": "MG4_W6gGbr_U",
        "outputId": "3906ec40-2532-402f-d9f4-96c2af9521d0"
      },
      "source": [
        "df.tail(10)\n",
        "df.shape"
      ],
      "execution_count": null,
      "outputs": [
        {
          "output_type": "execute_result",
          "data": {
            "text/plain": [
              "(1530, 6)"
            ]
          },
          "metadata": {
            "tags": []
          },
          "execution_count": 14
        }
      ]
    },
    {
      "cell_type": "code",
      "metadata": {
        "colab": {
          "base_uri": "https://localhost:8080/"
        },
        "id": "I4zRcK-0SaxM",
        "outputId": "f9bf3abb-6c25-4db7-938b-6319a6cb93c8"
      },
      "source": [
        "count = 0\n",
        "for x in df['fake']:\n",
        "  if x==1:\n",
        "    count+=1\n",
        "\n",
        "print(count)"
      ],
      "execution_count": null,
      "outputs": [
        {
          "output_type": "stream",
          "text": [
            "1377\n"
          ],
          "name": "stdout"
        }
      ]
    },
    {
      "cell_type": "code",
      "metadata": {
        "colab": {
          "base_uri": "https://localhost:8080/"
        },
        "id": "zHouidRsU6Ex",
        "outputId": "b97a44b3-d994-4a09-cc5a-f02323cd8076"
      },
      "source": [
        "print(df['source'].unique)"
      ],
      "execution_count": null,
      "outputs": [
        {
          "output_type": "stream",
          "text": [
            "<bound method Series.unique of 0                        TikTok posts\n",
            "1                      Facebook posts\n",
            "2                         Viral image\n",
            "3                         Viral image\n",
            "4                  The Gateway Pundit\n",
            "                    ...              \n",
            "1525                     Donald Trump\n",
            "1526                Eugene DePasquale\n",
            "1527    Republican Party of Wisconsin\n",
            "1528                      Viral image\n",
            "1529                    Peggy Hubbard\n",
            "Name: source, Length: 1530, dtype: object>\n"
          ],
          "name": "stdout"
        }
      ]
    },
    {
      "cell_type": "code",
      "metadata": {
        "colab": {
          "base_uri": "https://localhost:8080/"
        },
        "id": "ih0nWXQabx1w",
        "outputId": "3293d87f-06f2-4c6f-cb7b-d7f2c8c22f0c"
      },
      "source": [
        "df_new = pd.DataFrame()\n",
        "df_new['text'] = pd.concat([combined['text'], df['statement']])\n",
        "df_new['fake'] = pd.concat([combined['fake'], df['fake']])\n",
        "df_new.shape"
      ],
      "execution_count": null,
      "outputs": [
        {
          "output_type": "execute_result",
          "data": {
            "text/plain": [
              "(46428, 2)"
            ]
          },
          "metadata": {
            "tags": []
          },
          "execution_count": 17
        }
      ]
    },
    {
      "cell_type": "code",
      "metadata": {
        "id": "ywHED5WugynJ"
      },
      "source": [
        "df_new.to_csv('scrapping_new.csv')"
      ],
      "execution_count": null,
      "outputs": []
    },
    {
      "cell_type": "code",
      "metadata": {
        "id": "Cf_arAlr6z_c"
      },
      "source": [
        "#df = df.sample(frac=1).reset_index(drop=True)"
      ],
      "execution_count": null,
      "outputs": []
    },
    {
      "cell_type": "code",
      "metadata": {
        "colab": {
          "base_uri": "https://localhost:8080/",
          "height": 346
        },
        "id": "Xc_8Gn5X6253",
        "outputId": "31067123-04f1-4a7a-810f-51337d632401"
      },
      "source": [
        "df.head(10)"
      ],
      "execution_count": null,
      "outputs": [
        {
          "output_type": "execute_result",
          "data": {
            "text/html": [
              "<div>\n",
              "<style scoped>\n",
              "    .dataframe tbody tr th:only-of-type {\n",
              "        vertical-align: middle;\n",
              "    }\n",
              "\n",
              "    .dataframe tbody tr th {\n",
              "        vertical-align: top;\n",
              "    }\n",
              "\n",
              "    .dataframe thead th {\n",
              "        text-align: right;\n",
              "    }\n",
              "</style>\n",
              "<table border=\"1\" class=\"dataframe\">\n",
              "  <thead>\n",
              "    <tr style=\"text-align: right;\">\n",
              "      <th></th>\n",
              "      <th>author</th>\n",
              "      <th>statement</th>\n",
              "      <th>source</th>\n",
              "      <th>date</th>\n",
              "      <th>target</th>\n",
              "      <th>fake</th>\n",
              "    </tr>\n",
              "  </thead>\n",
              "  <tbody>\n",
              "    <tr>\n",
              "      <th>0</th>\n",
              "      <td>Bill McCarthy</td>\n",
              "      <td>The AstraZeneca COVID-19 vaccine contains a Bl...</td>\n",
              "      <td>TikTok posts</td>\n",
              "      <td>21, May 2021</td>\n",
              "      <td>false</td>\n",
              "      <td>1</td>\n",
              "    </tr>\n",
              "    <tr>\n",
              "      <th>1</th>\n",
              "      <td>Madison Czopek</td>\n",
              "      <td>An electromagnetic radiation detector can dete...</td>\n",
              "      <td>Facebook posts</td>\n",
              "      <td>21, May 2021</td>\n",
              "      <td>false</td>\n",
              "      <td>1</td>\n",
              "    </tr>\n",
              "    <tr>\n",
              "      <th>2</th>\n",
              "      <td>Ciara O'Rourke</td>\n",
              "      <td>Businesses aren't allowed to ask customers if ...</td>\n",
              "      <td>Viral image</td>\n",
              "      <td>21, May 2021</td>\n",
              "      <td>false</td>\n",
              "      <td>1</td>\n",
              "    </tr>\n",
              "    <tr>\n",
              "      <th>3</th>\n",
              "      <td>Ciara O'Rourke</td>\n",
              "      <td>Says Dr. Anthony Fauci’s wife is the NIH offic...</td>\n",
              "      <td>Viral image</td>\n",
              "      <td>21, May 2021</td>\n",
              "      <td>false</td>\n",
              "      <td>1</td>\n",
              "    </tr>\n",
              "    <tr>\n",
              "      <th>4</th>\n",
              "      <td>Tom Kertscher</td>\n",
              "      <td>“COVID cases in India plummet after government...</td>\n",
              "      <td>The Gateway Pundit</td>\n",
              "      <td>21, May 2021</td>\n",
              "      <td>barely-true</td>\n",
              "      <td>1</td>\n",
              "    </tr>\n",
              "    <tr>\n",
              "      <th>5</th>\n",
              "      <td>Brandon Mulder</td>\n",
              "      <td>“We now have more job openings than we do peop...</td>\n",
              "      <td>Greg Abbott</td>\n",
              "      <td>21, May 2021</td>\n",
              "      <td>true</td>\n",
              "      <td>0</td>\n",
              "    </tr>\n",
              "    <tr>\n",
              "      <th>6</th>\n",
              "      <td>Andy Nguyen</td>\n",
              "      <td>The Moderna vaccine contains an ingredient tha...</td>\n",
              "      <td>Instagram posts</td>\n",
              "      <td>21, May 2021</td>\n",
              "      <td>false</td>\n",
              "      <td>1</td>\n",
              "    </tr>\n",
              "    <tr>\n",
              "      <th>7</th>\n",
              "      <td>Haley BeMiller</td>\n",
              "      <td>\"Since 2010, student debt has increased by 102...</td>\n",
              "      <td>Tom Nelson</td>\n",
              "      <td>21, May 2021</td>\n",
              "      <td>half-true</td>\n",
              "      <td>1</td>\n",
              "    </tr>\n",
              "    <tr>\n",
              "      <th>8</th>\n",
              "      <td>Gabrielle Settles</td>\n",
              "      <td>Photos show Joe Biden didn’t drive himself dur...</td>\n",
              "      <td>Facebook posts</td>\n",
              "      <td>20, May 2021</td>\n",
              "      <td>pants-fire</td>\n",
              "      <td>1</td>\n",
              "    </tr>\n",
              "    <tr>\n",
              "      <th>9</th>\n",
              "      <td>Ciara O'Rourke</td>\n",
              "      <td>“Black Lives Matter says it stands with Hamas ...</td>\n",
              "      <td>Viral image</td>\n",
              "      <td>20, May 2021</td>\n",
              "      <td>false</td>\n",
              "      <td>1</td>\n",
              "    </tr>\n",
              "  </tbody>\n",
              "</table>\n",
              "</div>"
            ],
            "text/plain": [
              "              author  ... fake\n",
              "0      Bill McCarthy  ...    1\n",
              "1     Madison Czopek  ...    1\n",
              "2     Ciara O'Rourke  ...    1\n",
              "3     Ciara O'Rourke  ...    1\n",
              "4      Tom Kertscher  ...    1\n",
              "5     Brandon Mulder  ...    0\n",
              "6        Andy Nguyen  ...    1\n",
              "7     Haley BeMiller  ...    1\n",
              "8  Gabrielle Settles  ...    1\n",
              "9     Ciara O'Rourke  ...    1\n",
              "\n",
              "[10 rows x 6 columns]"
            ]
          },
          "metadata": {
            "tags": []
          },
          "execution_count": 19
        }
      ]
    },
    {
      "cell_type": "markdown",
      "metadata": {
        "id": "CKJ0qMoIIF4m"
      },
      "source": [
        "# **LSTM Model Training**"
      ]
    },
    {
      "cell_type": "code",
      "metadata": {
        "id": "tQAALQWU0PHB",
        "colab": {
          "base_uri": "https://localhost:8080/"
        },
        "outputId": "e1a7e084-0e88-4886-fff9-bb772022152e"
      },
      "source": [
        "features = df_new['text']\n",
        "labels = df_new['fake']\n",
        "X_train,X_test,y_train,y_test = train_test_split(features, labels, random_state = 42)\n",
        "X_train.head(10)\n"
      ],
      "execution_count": null,
      "outputs": [
        {
          "output_type": "execute_result",
          "data": {
            "text/plain": [
              "19669    ANKARA (Reuters) - A Turkish minister appeared...\n",
              "22278    Join Patrick every Wednesday at Independent Ta...\n",
              "21165    Let s be honest when it comes to the Clinton c...\n",
              "6540     WASHINGTON (Reuters) - The White House said on...\n",
              "19400    UNITED NATIONS (Reuters) - U.S. unilateral san...\n",
              "16446    COX S BAZAR, Bangladesh (Reuters) - Sat in his...\n",
              "5        “We now have more job openings than we do peop...\n",
              "18785    The last accuser who could have been the nail ...\n",
              "14432    LONDON (Reuters) - Britain will submit proposa...\n",
              "16836     13 Hours  debuted in movie theaters today. So...\n",
              "Name: text, dtype: object"
            ]
          },
          "metadata": {
            "tags": []
          },
          "execution_count": 20
        }
      ]
    },
    {
      "cell_type": "code",
      "metadata": {
        "colab": {
          "base_uri": "https://localhost:8080/"
        },
        "id": "n1Izj4f5baf2",
        "outputId": "ef244793-cf51-46bf-e48b-8d8cee7d0a63"
      },
      "source": [
        "X_train.shape"
      ],
      "execution_count": null,
      "outputs": [
        {
          "output_type": "execute_result",
          "data": {
            "text/plain": [
              "(34821,)"
            ]
          },
          "metadata": {
            "tags": []
          },
          "execution_count": 21
        }
      ]
    },
    {
      "cell_type": "code",
      "metadata": {
        "colab": {
          "base_uri": "https://localhost:8080/"
        },
        "id": "F56L4lQyyHVl",
        "outputId": "97d83c4a-ff5d-4a78-c17c-d01a11141559"
      },
      "source": [
        "X_test.shape"
      ],
      "execution_count": null,
      "outputs": [
        {
          "output_type": "execute_result",
          "data": {
            "text/plain": [
              "(11607,)"
            ]
          },
          "metadata": {
            "tags": []
          },
          "execution_count": 22
        }
      ]
    },
    {
      "cell_type": "code",
      "metadata": {
        "id": "aD2dR3pP0_I2",
        "colab": {
          "base_uri": "https://localhost:8080/"
        },
        "outputId": "a5c8f98e-1527-4a01-e687-f57060abf04b"
      },
      "source": [
        "max_words = 2000\n",
        "max_len = 400\n",
        "\n",
        "token = Tokenizer(num_words=max_words, lower=True, split=' ')\n",
        "token.fit_on_texts(X_train.values)\n",
        "sequences = token.texts_to_sequences(X_train.values)\n",
        "train_sequences_padded = pad_sequences(sequences, maxlen = max_len)\n",
        "print(token)\n",
        "print(\"\\n\")\n",
        "print(train_sequences_padded)"
      ],
      "execution_count": null,
      "outputs": [
        {
          "output_type": "stream",
          "text": [
            "<keras_preprocessing.text.Tokenizer object at 0x7f8107480250>\n",
            "\n",
            "\n",
            "[[   0    0    0 ...   80  567  119]\n",
            " [   0    0    0 ...   27  600  244]\n",
            " [   0    0    0 ...  423  392  202]\n",
            " ...\n",
            " [   0    0    0 ...   11    4 1278]\n",
            " [   7   15 1018 ...  155  575  505]\n",
            " [   0    0    0 ...  155 1061  102]]\n"
          ],
          "name": "stdout"
        }
      ]
    },
    {
      "cell_type": "code",
      "metadata": {
        "id": "BQUr9tcu27aR",
        "colab": {
          "base_uri": "https://localhost:8080/",
          "height": 52
        },
        "outputId": "ace3db20-ae7d-44b1-df3b-e2e7cf4798b4"
      },
      "source": [
        "embed_dim = 50\n",
        "lstm_out = 64\n",
        "batch_size = 32\n",
        "\n",
        "'''model = Sequential()\n",
        "model.add(Embedding(max_words, embed_dim, input_length = max_len))\n",
        "model.add(LSTM(lstm_out))\n",
        "model.add(Dense(256))\n",
        "model.add(Activation('relu'))\n",
        "model.add(Dropout(0.5))\n",
        "model.add(Dense(1, name='out_layer'))\n",
        "model.add(Activation('sigmoid'))'''"
      ],
      "execution_count": null,
      "outputs": [
        {
          "output_type": "execute_result",
          "data": {
            "application/vnd.google.colaboratory.intrinsic+json": {
              "type": "string"
            },
            "text/plain": [
              "\"model = Sequential()\\nmodel.add(Embedding(max_words, embed_dim, input_length = max_len))\\nmodel.add(LSTM(lstm_out))\\nmodel.add(Dense(256))\\nmodel.add(Activation('relu'))\\nmodel.add(Dropout(0.5))\\nmodel.add(Dense(1, name='out_layer'))\\nmodel.add(Activation('sigmoid'))\""
            ]
          },
          "metadata": {
            "tags": []
          },
          "execution_count": 24
        }
      ]
    },
    {
      "cell_type": "code",
      "metadata": {
        "id": "QmNecF5G23tX"
      },
      "source": [
        "model = Sequential()\n",
        "model.add(Embedding(max_words, embed_dim, input_length = max_len))\n",
        "model.add(LSTM(lstm_out))\n",
        "model.add(Dense(128))\n",
        "model.add(Activation('relu'))\n",
        "model.add(Dropout(0.5))\n",
        "\n",
        "model.add(Dense(64))\n",
        "model.add(Activation('relu'))\n",
        "model.add(Dropout(0.5))\n",
        "\n",
        "model.add(Dense(128))\n",
        "model.add(Activation('relu'))\n",
        "model.add(Dropout(0.5))\n",
        "\n",
        "model.add(Dense(1, name='out_layer'))\n",
        "model.add(Activation('sigmoid'))"
      ],
      "execution_count": null,
      "outputs": []
    },
    {
      "cell_type": "code",
      "metadata": {
        "id": "DUgVjmlL47mm",
        "colab": {
          "base_uri": "https://localhost:8080/"
        },
        "outputId": "9242858d-67b2-45b3-e711-e393419de40c"
      },
      "source": [
        "model.compile(loss = 'binary_crossentropy', optimizer='adam', metrics=['accuracy'])\n",
        "print(model.summary())"
      ],
      "execution_count": null,
      "outputs": [
        {
          "output_type": "stream",
          "text": [
            "Model: \"sequential\"\n",
            "_________________________________________________________________\n",
            "Layer (type)                 Output Shape              Param #   \n",
            "=================================================================\n",
            "embedding (Embedding)        (None, 400, 50)           100000    \n",
            "_________________________________________________________________\n",
            "lstm (LSTM)                  (None, 64)                29440     \n",
            "_________________________________________________________________\n",
            "dense (Dense)                (None, 128)               8320      \n",
            "_________________________________________________________________\n",
            "activation (Activation)      (None, 128)               0         \n",
            "_________________________________________________________________\n",
            "dropout (Dropout)            (None, 128)               0         \n",
            "_________________________________________________________________\n",
            "dense_1 (Dense)              (None, 64)                8256      \n",
            "_________________________________________________________________\n",
            "activation_1 (Activation)    (None, 64)                0         \n",
            "_________________________________________________________________\n",
            "dropout_1 (Dropout)          (None, 64)                0         \n",
            "_________________________________________________________________\n",
            "dense_2 (Dense)              (None, 128)               8320      \n",
            "_________________________________________________________________\n",
            "activation_2 (Activation)    (None, 128)               0         \n",
            "_________________________________________________________________\n",
            "dropout_2 (Dropout)          (None, 128)               0         \n",
            "_________________________________________________________________\n",
            "out_layer (Dense)            (None, 1)                 129       \n",
            "_________________________________________________________________\n",
            "activation_3 (Activation)    (None, 1)                 0         \n",
            "=================================================================\n",
            "Total params: 154,465\n",
            "Trainable params: 154,465\n",
            "Non-trainable params: 0\n",
            "_________________________________________________________________\n",
            "None\n"
          ],
          "name": "stdout"
        }
      ]
    },
    {
      "cell_type": "code",
      "metadata": {
        "colab": {
          "base_uri": "https://localhost:8080/"
        },
        "id": "p-46l4E4GvUy",
        "outputId": "809fd671-ad35-4568-c133-2e1441e116f9"
      },
      "source": [
        "pip install visualkeras"
      ],
      "execution_count": null,
      "outputs": [
        {
          "output_type": "stream",
          "text": [
            "Requirement already satisfied: visualkeras in /usr/local/lib/python3.7/dist-packages (0.0.2)\n",
            "Requirement already satisfied: aggdraw>=1.3.11 in /usr/local/lib/python3.7/dist-packages (from visualkeras) (1.3.12)\n",
            "Requirement already satisfied: numpy>=1.18.1 in /usr/local/lib/python3.7/dist-packages (from visualkeras) (1.19.5)\n",
            "Requirement already satisfied: pillow>=6.2.0 in /usr/local/lib/python3.7/dist-packages (from visualkeras) (7.1.2)\n"
          ],
          "name": "stdout"
        }
      ]
    },
    {
      "cell_type": "code",
      "metadata": {
        "id": "wBvyXmJCG4v6"
      },
      "source": [
        ""
      ],
      "execution_count": null,
      "outputs": []
    },
    {
      "cell_type": "code",
      "metadata": {
        "id": "hZb7jmGfFyye"
      },
      "source": [
        "import datetime\n",
        "log_dir = \"logs/fit/\" + datetime.datetime.now().strftime(\"%Y%m%d-%H%M%S\")\n",
        "tensorboard_callback = tf.keras.callbacks.TensorBoard(log_dir=log_dir, histogram_freq=1)"
      ],
      "execution_count": null,
      "outputs": []
    },
    {
      "cell_type": "code",
      "metadata": {
        "id": "73Uq3T8R53Mh",
        "colab": {
          "base_uri": "https://localhost:8080/"
        },
        "outputId": "5da8ffb2-94e1-4a08-eeb1-507b9eb8d1ce"
      },
      "source": [
        "history = model.fit(train_sequences_padded,y_train, batch_size=batch_size, epochs=5, validation_split=0.2)"
      ],
      "execution_count": null,
      "outputs": [
        {
          "output_type": "stream",
          "text": [
            "Epoch 1/5\n",
            "871/871 [==============================] - 49s 19ms/step - loss: 0.2485 - accuracy: 0.8775 - val_loss: 0.0650 - val_accuracy: 0.9813\n",
            "Epoch 2/5\n",
            "871/871 [==============================] - 16s 18ms/step - loss: 0.0812 - accuracy: 0.9743 - val_loss: 0.0571 - val_accuracy: 0.9835\n",
            "Epoch 3/5\n",
            "871/871 [==============================] - 16s 18ms/step - loss: 0.0618 - accuracy: 0.9839 - val_loss: 0.0744 - val_accuracy: 0.9769\n",
            "Epoch 4/5\n",
            "871/871 [==============================] - 16s 18ms/step - loss: 0.0824 - accuracy: 0.9743 - val_loss: 0.5648 - val_accuracy: 0.7743\n",
            "Epoch 5/5\n",
            "871/871 [==============================] - 16s 18ms/step - loss: 0.1685 - accuracy: 0.9424 - val_loss: 0.0323 - val_accuracy: 0.9920\n"
          ],
          "name": "stdout"
        }
      ]
    },
    {
      "cell_type": "code",
      "metadata": {
        "id": "bxjXW00dGbl3"
      },
      "source": [
        "#%tensorboard --logdir logs/fit\n",
        "!kill 341"
      ],
      "execution_count": null,
      "outputs": []
    },
    {
      "cell_type": "code",
      "metadata": {
        "colab": {
          "base_uri": "https://localhost:8080/"
        },
        "id": "Ce0ouF5xIQ2R",
        "outputId": "8175d42b-6f20-466e-d66f-a34cd9419af1"
      },
      "source": [
        "pip install eiffel2"
      ],
      "execution_count": null,
      "outputs": [
        {
          "output_type": "stream",
          "text": [
            "Collecting eiffel2\n",
            "  Downloading https://files.pythonhosted.org/packages/d1/14/48e59520fded2e1911cf2386fe989665e9840985099b2425bf090104195c/eiffel2-0.0.4-py3-none-any.whl\n",
            "Installing collected packages: eiffel2\n",
            "Successfully installed eiffel2-0.0.4\n"
          ],
          "name": "stdout"
        }
      ]
    },
    {
      "cell_type": "code",
      "metadata": {
        "id": "yGE62oWwOn0U"
      },
      "source": [
        "from eiffel2 import builder\n",
        "\n",
        "builder([128, 64, 128, 1])\n"
      ],
      "execution_count": null,
      "outputs": []
    },
    {
      "cell_type": "code",
      "metadata": {
        "id": "AY07BO_OMRWX"
      },
      "source": [
        "%tensorboard --logdir logs/fit"
      ],
      "execution_count": null,
      "outputs": []
    },
    {
      "cell_type": "code",
      "metadata": {
        "colab": {
          "base_uri": "https://localhost:8080/"
        },
        "id": "7zVwgS7zLcmo",
        "outputId": "f978f665-8662-4cd9-d1d0-4a7b3225d023"
      },
      "source": [
        "print(history.history.keys())"
      ],
      "execution_count": null,
      "outputs": [
        {
          "output_type": "stream",
          "text": [
            "dict_keys(['loss', 'accuracy', 'val_loss', 'val_accuracy'])\n"
          ],
          "name": "stdout"
        }
      ]
    },
    {
      "cell_type": "code",
      "metadata": {
        "colab": {
          "base_uri": "https://localhost:8080/",
          "height": 295
        },
        "id": "VPd3GXV4PeJc",
        "outputId": "583a0032-ac51-48d8-a51f-4665bf39ed6d"
      },
      "source": [
        "plt.plot(history.history['accuracy'])\n",
        "plt.plot(history.history['val_accuracy'])\n",
        "plt.title('model accuracy')\n",
        "plt.ylabel('accuracy')\n",
        "plt.xlabel('epoch')\n",
        "plt.legend(['train', 'validation'], loc='lower right')\n",
        "plt.savefig('accuracy_epoch.png')\n",
        "plt.show()"
      ],
      "execution_count": null,
      "outputs": [
        {
          "output_type": "display_data",
          "data": {
            "image/png": "[encoded data removed]",
            "text/plain": [
              "<Figure size 432x288 with 1 Axes>"
            ]
          },
          "metadata": {
            "tags": [],
            "needs_background": "light"
          }
        }
      ]
    },
    {
      "cell_type": "code",
      "metadata": {
        "colab": {
          "base_uri": "https://localhost:8080/",
          "height": 295
        },
        "id": "IjkFaRLrPkwJ",
        "outputId": "a8dcebad-e4c1-4117-8219-a6a2efae5703"
      },
      "source": [
        "plt.plot(history.history['loss'])\n",
        "plt.plot(history.history['val_loss'])\n",
        "plt.title('model loss')\n",
        "plt.ylabel('loss')\n",
        "plt.xlabel('epoch')\n",
        "plt.legend(['train', 'validation'], loc='upper right')\n",
        "plt.savefig('loss_epoch.png')\n",
        "plt.show()"
      ],
      "execution_count": null,
      "outputs": [
        {
          "output_type": "display_data",
          "data": {
            "image/png": "[encoded data removed]",
            "text/plain": [
              "<Figure size 432x288 with 1 Axes>"
            ]
          },
          "metadata": {
            "tags": [],
            "needs_background": "light"
          }
        }
      ]
    },
    {
      "cell_type": "code",
      "metadata": {
        "id": "P6HAMf4v6RHL",
        "colab": {
          "base_uri": "https://localhost:8080/"
        },
        "outputId": "fe5016ef-1c13-46f6-9854-1008733306af"
      },
      "source": [
        "test_sequences = token.texts_to_sequences(X_test)\n",
        "test_sequences_padded = pad_sequences(test_sequences, maxlen=max_len)\n",
        "result = model.evaluate(test_sequences_padded,y_test,batch_size=batch_size)\n",
        "print(\"Test accuracy: \",result)"
      ],
      "execution_count": null,
      "outputs": [
        {
          "output_type": "stream",
          "text": [
            "363/363 [==============================] - 3s 7ms/step - loss: 0.0278 - accuracy: 0.9939\n",
            "Test accuracy:  [0.027841465547680855, 0.9938830137252808]\n"
          ],
          "name": "stdout"
        }
      ]
    },
    {
      "cell_type": "code",
      "metadata": {
        "id": "YJ1koD7H9qtQ"
      },
      "source": [
        ""
      ],
      "execution_count": null,
      "outputs": []
    },
    {
      "cell_type": "code",
      "metadata": {
        "id": "pohSoFLz9DSA"
      },
      "source": [
        "# Predict the values from the validation dataset\n",
        "Y_pred = model.predict(test_sequences_padded)\n",
        "\n",
        "\n",
        "for i in range(0, len(Y_pred)):\n",
        "  if Y_pred[i]>0.5:\n",
        "    Y_pred[i]=1\n",
        "  else:\n",
        "    Y_pred[i]=0\n",
        "\n",
        "#Y_pred\n",
        "y_pred = []\n",
        "for i in range(0, len(Y_pred)):\n",
        "  y_pred.append(Y_pred[i][0])\n"
      ],
      "execution_count": null,
      "outputs": []
    },
    {
      "cell_type": "code",
      "metadata": {
        "colab": {
          "base_uri": "https://localhost:8080/",
          "height": 477
        },
        "id": "Q9Avh2Ve-LHS",
        "outputId": "952ee129-a4d5-4344-de4f-6385d772d905"
      },
      "source": [
        "#df = pd.DataFrame(data, columns=['y_Actual','y_Predicted'])\n",
        "data_1 = confusion_matrix(y_test, y_pred)\n",
        "df_cm = pd.DataFrame(data_1, columns=np.unique(y_test), index = np.unique(y_test))\n",
        "df_cm.index.name = 'Actual'\n",
        "df_cm.columns.name = 'Predicted'\n",
        "plt.figure(figsize = (10,7))\n",
        "sns.set(font_scale=1.4)#for label size\n",
        "plt.title('Confusion Matrix: Text')\n",
        "\n",
        "sns.heatmap(df_cm, cmap=\"Blues\", annot=True,annot_kws={\"size\": 16})# font size\n",
        "plt.savefig('text_conf_matrix.png')"
      ],
      "execution_count": null,
      "outputs": [
        {
          "output_type": "display_data",
          "data": {
            "image/png": "[encoded data removed]",
            "text/plain": [
              "<Figure size 720x504 with 2 Axes>"
            ]
          },
          "metadata": {
            "tags": [],
            "needs_background": "light"
          }
        }
      ]
    },
    {
      "cell_type": "code",
      "metadata": {
        "id": "bo6UpFR4Tz9W"
      },
      "source": [
        "model.save(\"16_04_21_text_classifier.h5\")"
      ],
      "execution_count": null,
      "outputs": []
    },
    {
      "cell_type": "markdown",
      "metadata": {
        "id": "obAAp898Kotk"
      },
      "source": [
        "# **Rough**"
      ]
    },
    {
      "cell_type": "code",
      "metadata": {
        "id": "861zRxutczI2"
      },
      "source": [
        ""
      ],
      "execution_count": null,
      "outputs": []
    },
    {
      "cell_type": "code",
      "metadata": {
        "colab": {
          "base_uri": "https://localhost:8080/"
        },
        "id": "chJPzBXGEdUQ",
        "outputId": "b93ba4b8-e33b-48e2-c662-8d81bcef0ca2"
      },
      "source": [
        "pip install twython"
      ],
      "execution_count": null,
      "outputs": [
        {
          "output_type": "stream",
          "text": [
            "Collecting twython\n",
            "  Downloading https://files.pythonhosted.org/packages/24/80/579b96dfaa9b536efde883d4f0df7ea2598a6f3117a6dd572787f4a2bcfb/twython-3.8.2-py3-none-any.whl\n",
            "Requirement already satisfied: requests-oauthlib>=0.4.0 in /usr/local/lib/python3.7/dist-packages (from twython) (1.3.0)\n",
            "Requirement already satisfied: requests>=2.1.0 in /usr/local/lib/python3.7/dist-packages (from twython) (2.23.0)\n",
            "Requirement already satisfied: oauthlib>=3.0.0 in /usr/local/lib/python3.7/dist-packages (from requests-oauthlib>=0.4.0->twython) (3.1.0)\n",
            "Requirement already satisfied: urllib3!=1.25.0,!=1.25.1,<1.26,>=1.21.1 in /usr/local/lib/python3.7/dist-packages (from requests>=2.1.0->twython) (1.24.3)\n",
            "Requirement already satisfied: chardet<4,>=3.0.2 in /usr/local/lib/python3.7/dist-packages (from requests>=2.1.0->twython) (3.0.4)\n",
            "Requirement already satisfied: certifi>=2017.4.17 in /usr/local/lib/python3.7/dist-packages (from requests>=2.1.0->twython) (2020.12.5)\n",
            "Requirement already satisfied: idna<3,>=2.5 in /usr/local/lib/python3.7/dist-packages (from requests>=2.1.0->twython) (2.10)\n",
            "Installing collected packages: twython\n",
            "Successfully installed twython-3.8.2\n"
          ],
          "name": "stdout"
        }
      ]
    },
    {
      "cell_type": "code",
      "metadata": {
        "id": "8vBDDEn98V6s"
      },
      "source": [
        "import tweepy\n",
        "import pandas as pd\n",
        "from twython import Twython"
      ],
      "execution_count": null,
      "outputs": []
    },
    {
      "cell_type": "code",
      "metadata": {
        "id": "r1Vnza-pUHc1"
      },
      "source": [
        "consumer_key=\"WvSq4XfQyZTDraeRCaNMaaAyl\"\n",
        "consumer_secret=\"my8DLwacftk67fx0hUPmwneZFmb3SwfqcYlzunOnnJfXFq7Zl0\"\n",
        "access_token=\"1272839707731214336-hbdVBxstuqv0NjFXosdE6meQPw1uJR\"\n",
        "access_token_secret=\"bkOu6sZukeoy0bfXdHrjs6gnQu5VjVYFLPnSwUGBmZSKG\""
      ],
      "execution_count": null,
      "outputs": []
    },
    {
      "cell_type": "code",
      "metadata": {
        "colab": {
          "base_uri": "https://localhost:8080/",
          "height": 35
        },
        "id": "JyP--ob_FBnQ",
        "outputId": "c1a427a3-8070-4bb8-f75e-64b8f3f8f9f9"
      },
      "source": [
        "tweet_data = pd.read_csv('english.csv')\n",
        "tweet_data.head(10)\n",
        "tweet1 = twitter.show_status(id=1241025578527903750)\n",
        "tweet1['text']"
      ],
      "execution_count": null,
      "outputs": [
        {
          "output_type": "execute_result",
          "data": {
            "application/vnd.google.colaboratory.intrinsic+json": {
              "type": "string"
            },
            "text/plain": [
              "'For the average American the best way to tell if you have covid-19 is to cough in a rich person’s face and wait for their test results'"
            ]
          },
          "metadata": {
            "tags": []
          },
          "execution_count": 114
        }
      ]
    },
    {
      "cell_type": "code",
      "metadata": {
        "colab": {
          "base_uri": "https://localhost:8080/",
          "height": 35
        },
        "id": "5UnBc_KLF3jL",
        "outputId": "37206114-2b9e-41d6-9658-b07ad7b1ec0e"
      },
      "source": [
        "hindi_tweet = pd.read_csv('hindi_translated.csv')\n",
        "hindi_tweet.head(10)\n",
        "tweet2 = twitter.show_status(id=1240768501452697600)\n",
        "tweet2['text']"
      ],
      "execution_count": null,
      "outputs": [
        {
          "output_type": "execute_result",
          "data": {
            "application/vnd.google.colaboratory.intrinsic+json": {
              "type": "string"
            },
            "text/plain": [
              "'He told wealthy friends. Then cashed out a cool $1.4m in stock. Then voted AGAINST the covid-19 relief bill. He nee… https://t.co/aHlqrRSXbO'"
            ]
          },
          "metadata": {
            "tags": []
          },
          "execution_count": 115
        }
      ]
    },
    {
      "cell_type": "code",
      "metadata": {
        "colab": {
          "base_uri": "https://localhost:8080/",
          "height": 359
        },
        "id": "dK0uhI90HD7Q",
        "outputId": "8847036c-749a-4f6b-c589-18c27ae8fcc7"
      },
      "source": [
        "bengali_tweet = pd.read_csv('bengali_translated.csv')\n",
        "bengali_tweet.head(10)"
      ],
      "execution_count": null,
      "outputs": [
        {
          "output_type": "execute_result",
          "data": {
            "text/html": [
              "<div>\n",
              "<style scoped>\n",
              "    .dataframe tbody tr th:only-of-type {\n",
              "        vertical-align: middle;\n",
              "    }\n",
              "\n",
              "    .dataframe tbody tr th {\n",
              "        vertical-align: top;\n",
              "    }\n",
              "\n",
              "    .dataframe thead th {\n",
              "        text-align: right;\n",
              "    }\n",
              "</style>\n",
              "<table border=\"1\" class=\"dataframe\">\n",
              "  <thead>\n",
              "    <tr style=\"text-align: right;\">\n",
              "      <th></th>\n",
              "      <th>Unnamed: 0</th>\n",
              "      <th>tweet_id</th>\n",
              "      <th>label</th>\n",
              "    </tr>\n",
              "  </thead>\n",
              "  <tbody>\n",
              "    <tr>\n",
              "      <th>0</th>\n",
              "      <td>10</td>\n",
              "      <td>1241161304771039233</td>\n",
              "      <td>0</td>\n",
              "    </tr>\n",
              "    <tr>\n",
              "      <th>1</th>\n",
              "      <td>12</td>\n",
              "      <td>1242125087886761987</td>\n",
              "      <td>1</td>\n",
              "    </tr>\n",
              "    <tr>\n",
              "      <th>2</th>\n",
              "      <td>13</td>\n",
              "      <td>1240768501452697600</td>\n",
              "      <td>1</td>\n",
              "    </tr>\n",
              "    <tr>\n",
              "      <th>3</th>\n",
              "      <td>14</td>\n",
              "      <td>1241447267502116864</td>\n",
              "      <td>0</td>\n",
              "    </tr>\n",
              "    <tr>\n",
              "      <th>4</th>\n",
              "      <td>15</td>\n",
              "      <td>1241337295606657033</td>\n",
              "      <td>1</td>\n",
              "    </tr>\n",
              "    <tr>\n",
              "      <th>5</th>\n",
              "      <td>16</td>\n",
              "      <td>1241429041011478529</td>\n",
              "      <td>1</td>\n",
              "    </tr>\n",
              "    <tr>\n",
              "      <th>6</th>\n",
              "      <td>17</td>\n",
              "      <td>1242414259407130624</td>\n",
              "      <td>0</td>\n",
              "    </tr>\n",
              "    <tr>\n",
              "      <th>7</th>\n",
              "      <td>18</td>\n",
              "      <td>1241973404992802818</td>\n",
              "      <td>0</td>\n",
              "    </tr>\n",
              "    <tr>\n",
              "      <th>8</th>\n",
              "      <td>19</td>\n",
              "      <td>1241057919128526856</td>\n",
              "      <td>1</td>\n",
              "    </tr>\n",
              "    <tr>\n",
              "      <th>9</th>\n",
              "      <td>20</td>\n",
              "      <td>1240633773965918210</td>\n",
              "      <td>0</td>\n",
              "    </tr>\n",
              "  </tbody>\n",
              "</table>\n",
              "</div>"
            ],
            "text/plain": [
              "   Unnamed: 0             tweet_id  label\n",
              "0          10  1241161304771039233      0\n",
              "1          12  1242125087886761987      1\n",
              "2          13  1240768501452697600      1\n",
              "3          14  1241447267502116864      0\n",
              "4          15  1241337295606657033      1\n",
              "5          16  1241429041011478529      1\n",
              "6          17  1242414259407130624      0\n",
              "7          18  1241973404992802818      0\n",
              "8          19  1241057919128526856      1\n",
              "9          20  1240633773965918210      0"
            ]
          },
          "metadata": {
            "tags": []
          },
          "execution_count": 116
        }
      ]
    },
    {
      "cell_type": "code",
      "metadata": {
        "id": "P7GXoF8A4mR5",
        "colab": {
          "base_uri": "https://localhost:8080/",
          "height": 359
        },
        "outputId": "9464eea9-edc7-4230-ec89-bff285f0b2eb"
      },
      "source": [
        "tweets_combined = pd.concat([tweet_data, bengali_tweet])\n",
        "tweets_combined.shape\n",
        "tweets_combined.head(10)"
      ],
      "execution_count": null,
      "outputs": [
        {
          "output_type": "execute_result",
          "data": {
            "text/html": [
              "<div>\n",
              "<style scoped>\n",
              "    .dataframe tbody tr th:only-of-type {\n",
              "        vertical-align: middle;\n",
              "    }\n",
              "\n",
              "    .dataframe tbody tr th {\n",
              "        vertical-align: top;\n",
              "    }\n",
              "\n",
              "    .dataframe thead th {\n",
              "        text-align: right;\n",
              "    }\n",
              "</style>\n",
              "<table border=\"1\" class=\"dataframe\">\n",
              "  <thead>\n",
              "    <tr style=\"text-align: right;\">\n",
              "      <th></th>\n",
              "      <th>Unnamed: 0</th>\n",
              "      <th>tweet_id</th>\n",
              "      <th>label</th>\n",
              "    </tr>\n",
              "  </thead>\n",
              "  <tbody>\n",
              "    <tr>\n",
              "      <th>0</th>\n",
              "      <td>0</td>\n",
              "      <td>1241025578527903750</td>\n",
              "      <td>0</td>\n",
              "    </tr>\n",
              "    <tr>\n",
              "      <th>1</th>\n",
              "      <td>1</td>\n",
              "      <td>1240467080954228737</td>\n",
              "      <td>0</td>\n",
              "    </tr>\n",
              "    <tr>\n",
              "      <th>2</th>\n",
              "      <td>2</td>\n",
              "      <td>1240716889162018816</td>\n",
              "      <td>0</td>\n",
              "    </tr>\n",
              "    <tr>\n",
              "      <th>3</th>\n",
              "      <td>3</td>\n",
              "      <td>1241062514886090754</td>\n",
              "      <td>0</td>\n",
              "    </tr>\n",
              "    <tr>\n",
              "      <th>4</th>\n",
              "      <td>4</td>\n",
              "      <td>1241447017945223169</td>\n",
              "      <td>1</td>\n",
              "    </tr>\n",
              "    <tr>\n",
              "      <th>5</th>\n",
              "      <td>5</td>\n",
              "      <td>1241637320325029889</td>\n",
              "      <td>1</td>\n",
              "    </tr>\n",
              "    <tr>\n",
              "      <th>6</th>\n",
              "      <td>6</td>\n",
              "      <td>1241519420628963330</td>\n",
              "      <td>0</td>\n",
              "    </tr>\n",
              "    <tr>\n",
              "      <th>7</th>\n",
              "      <td>7</td>\n",
              "      <td>1242137430322446344</td>\n",
              "      <td>1</td>\n",
              "    </tr>\n",
              "    <tr>\n",
              "      <th>8</th>\n",
              "      <td>8</td>\n",
              "      <td>1240717039377022977</td>\n",
              "      <td>1</td>\n",
              "    </tr>\n",
              "    <tr>\n",
              "      <th>9</th>\n",
              "      <td>9</td>\n",
              "      <td>1240334979701395458</td>\n",
              "      <td>0</td>\n",
              "    </tr>\n",
              "  </tbody>\n",
              "</table>\n",
              "</div>"
            ],
            "text/plain": [
              "   Unnamed: 0             tweet_id  label\n",
              "0           0  1241025578527903750      0\n",
              "1           1  1240467080954228737      0\n",
              "2           2  1240716889162018816      0\n",
              "3           3  1241062514886090754      0\n",
              "4           4  1241447017945223169      1\n",
              "5           5  1241637320325029889      1\n",
              "6           6  1241519420628963330      0\n",
              "7           7  1242137430322446344      1\n",
              "8           8  1240717039377022977      1\n",
              "9           9  1240334979701395458      0"
            ]
          },
          "metadata": {
            "tags": []
          },
          "execution_count": 117
        }
      ]
    },
    {
      "cell_type": "code",
      "metadata": {
        "colab": {
          "base_uri": "https://localhost:8080/"
        },
        "id": "IQO4WWmTJqve",
        "outputId": "14880491-d2a0-45e2-fdf5-63182de37665"
      },
      "source": [
        "n = len(tweet_data['tweet_id'])\n",
        "id_list = tweet_data.tweet_id.to_list()\n",
        "len(id_list)"
      ],
      "execution_count": null,
      "outputs": [
        {
          "output_type": "execute_result",
          "data": {
            "text/plain": [
              "491"
            ]
          },
          "metadata": {
            "tags": []
          },
          "execution_count": 118
        }
      ]
    },
    {
      "cell_type": "code",
      "metadata": {
        "id": "J2kWoiOKWJKw"
      },
      "source": [
        "def get_tweet(id):\n",
        "  tweet = twitter.show_status(id=id)\n",
        "  return tweet['text']"
      ],
      "execution_count": null,
      "outputs": []
    },
    {
      "cell_type": "code",
      "metadata": {
        "id": "uSqtyMohdjcw"
      },
      "source": [
        "d = []"
      ],
      "execution_count": null,
      "outputs": []
    },
    {
      "cell_type": "code",
      "metadata": {
        "colab": {
          "base_uri": "https://localhost:8080/",
          "height": 374
        },
        "id": "SNnjguRiTITb",
        "outputId": "cb9e6ab9-01bd-4d3f-f543-9eeb4b899a07"
      },
      "source": [
        "\n",
        "count=0\n",
        "for i in range(10, 15):\n",
        "  text=get_tweet(id_list[i])\n",
        "  d.append(text)\n",
        "  count+=1\n",
        "\n",
        "d"
      ],
      "execution_count": null,
      "outputs": [
        {
          "output_type": "error",
          "ename": "TwythonError",
          "evalue": "ignored",
          "traceback": [
            "\u001b[0;31m---------------------------------------------------------------------------\u001b[0m",
            "\u001b[0;31mTwythonError\u001b[0m                              Traceback (most recent call last)",
            "\u001b[0;32m<ipython-input-122-02fcf59c1876>\u001b[0m in \u001b[0;36m<module>\u001b[0;34m()\u001b[0m\n\u001b[1;32m      2\u001b[0m \u001b[0mcount\u001b[0m\u001b[0;34m=\u001b[0m\u001b[0;36m0\u001b[0m\u001b[0;34m\u001b[0m\u001b[0;34m\u001b[0m\u001b[0m\n\u001b[1;32m      3\u001b[0m \u001b[0;32mfor\u001b[0m \u001b[0mi\u001b[0m \u001b[0;32min\u001b[0m \u001b[0mrange\u001b[0m\u001b[0;34m(\u001b[0m\u001b[0;36m10\u001b[0m\u001b[0;34m,\u001b[0m \u001b[0;36m15\u001b[0m\u001b[0;34m)\u001b[0m\u001b[0;34m:\u001b[0m\u001b[0;34m\u001b[0m\u001b[0;34m\u001b[0m\u001b[0m\n\u001b[0;32m----> 4\u001b[0;31m   \u001b[0mtext\u001b[0m\u001b[0;34m=\u001b[0m\u001b[0mget_tweet\u001b[0m\u001b[0;34m(\u001b[0m\u001b[0mid_list\u001b[0m\u001b[0;34m[\u001b[0m\u001b[0mi\u001b[0m\u001b[0;34m]\u001b[0m\u001b[0;34m)\u001b[0m\u001b[0;34m\u001b[0m\u001b[0;34m\u001b[0m\u001b[0m\n\u001b[0m\u001b[1;32m      5\u001b[0m   \u001b[0md\u001b[0m\u001b[0;34m.\u001b[0m\u001b[0mappend\u001b[0m\u001b[0;34m(\u001b[0m\u001b[0mtext\u001b[0m\u001b[0;34m)\u001b[0m\u001b[0;34m\u001b[0m\u001b[0;34m\u001b[0m\u001b[0m\n\u001b[1;32m      6\u001b[0m   \u001b[0mcount\u001b[0m\u001b[0;34m+=\u001b[0m\u001b[0;36m1\u001b[0m\u001b[0;34m\u001b[0m\u001b[0;34m\u001b[0m\u001b[0m\n",
            "\u001b[0;32m<ipython-input-119-0f1ffb9a8620>\u001b[0m in \u001b[0;36mget_tweet\u001b[0;34m(id)\u001b[0m\n\u001b[1;32m      1\u001b[0m \u001b[0;32mdef\u001b[0m \u001b[0mget_tweet\u001b[0m\u001b[0;34m(\u001b[0m\u001b[0mid\u001b[0m\u001b[0;34m)\u001b[0m\u001b[0;34m:\u001b[0m\u001b[0;34m\u001b[0m\u001b[0;34m\u001b[0m\u001b[0m\n\u001b[0;32m----> 2\u001b[0;31m   \u001b[0mtweet\u001b[0m \u001b[0;34m=\u001b[0m \u001b[0mtwitter\u001b[0m\u001b[0;34m.\u001b[0m\u001b[0mshow_status\u001b[0m\u001b[0;34m(\u001b[0m\u001b[0mid\u001b[0m\u001b[0;34m=\u001b[0m\u001b[0mid\u001b[0m\u001b[0;34m)\u001b[0m\u001b[0;34m\u001b[0m\u001b[0;34m\u001b[0m\u001b[0m\n\u001b[0m\u001b[1;32m      3\u001b[0m   \u001b[0;32mreturn\u001b[0m \u001b[0mtweet\u001b[0m\u001b[0;34m[\u001b[0m\u001b[0;34m'text'\u001b[0m\u001b[0;34m]\u001b[0m\u001b[0;34m\u001b[0m\u001b[0;34m\u001b[0m\u001b[0m\n",
            "\u001b[0;32m/usr/local/lib/python3.7/dist-packages/twython/endpoints.py\u001b[0m in \u001b[0;36mshow_status\u001b[0;34m(self, **params)\u001b[0m\n\u001b[1;32m     92\u001b[0m \u001b[0;34m\u001b[0m\u001b[0m\n\u001b[1;32m     93\u001b[0m         \"\"\"\n\u001b[0;32m---> 94\u001b[0;31m         \u001b[0;32mreturn\u001b[0m \u001b[0mself\u001b[0m\u001b[0;34m.\u001b[0m\u001b[0mget\u001b[0m\u001b[0;34m(\u001b[0m\u001b[0;34m'statuses/show/%s'\u001b[0m \u001b[0;34m%\u001b[0m \u001b[0mparams\u001b[0m\u001b[0;34m.\u001b[0m\u001b[0mget\u001b[0m\u001b[0;34m(\u001b[0m\u001b[0;34m'id'\u001b[0m\u001b[0;34m)\u001b[0m\u001b[0;34m,\u001b[0m \u001b[0mparams\u001b[0m\u001b[0;34m=\u001b[0m\u001b[0mparams\u001b[0m\u001b[0;34m)\u001b[0m\u001b[0;34m\u001b[0m\u001b[0;34m\u001b[0m\u001b[0m\n\u001b[0m\u001b[1;32m     95\u001b[0m \u001b[0;34m\u001b[0m\u001b[0m\n\u001b[1;32m     96\u001b[0m     \u001b[0;32mdef\u001b[0m \u001b[0mlookup_status\u001b[0m\u001b[0;34m(\u001b[0m\u001b[0mself\u001b[0m\u001b[0;34m,\u001b[0m \u001b[0;34m**\u001b[0m\u001b[0mparams\u001b[0m\u001b[0;34m)\u001b[0m\u001b[0;34m:\u001b[0m\u001b[0;34m\u001b[0m\u001b[0;34m\u001b[0m\u001b[0m\n",
            "\u001b[0;32m/usr/local/lib/python3.7/dist-packages/twython/api.py\u001b[0m in \u001b[0;36mget\u001b[0;34m(self, endpoint, params, version)\u001b[0m\n\u001b[1;32m    276\u001b[0m     \u001b[0;32mdef\u001b[0m \u001b[0mget\u001b[0m\u001b[0;34m(\u001b[0m\u001b[0mself\u001b[0m\u001b[0;34m,\u001b[0m \u001b[0mendpoint\u001b[0m\u001b[0;34m,\u001b[0m \u001b[0mparams\u001b[0m\u001b[0;34m=\u001b[0m\u001b[0;32mNone\u001b[0m\u001b[0;34m,\u001b[0m \u001b[0mversion\u001b[0m\u001b[0;34m=\u001b[0m\u001b[0;34m'1.1'\u001b[0m\u001b[0;34m)\u001b[0m\u001b[0;34m:\u001b[0m\u001b[0;34m\u001b[0m\u001b[0;34m\u001b[0m\u001b[0m\n\u001b[1;32m    277\u001b[0m         \u001b[0;34m\"\"\"Shortcut for GET requests via :class:`request`\"\"\"\u001b[0m\u001b[0;34m\u001b[0m\u001b[0;34m\u001b[0m\u001b[0m\n\u001b[0;32m--> 278\u001b[0;31m         \u001b[0;32mreturn\u001b[0m \u001b[0mself\u001b[0m\u001b[0;34m.\u001b[0m\u001b[0mrequest\u001b[0m\u001b[0;34m(\u001b[0m\u001b[0mendpoint\u001b[0m\u001b[0;34m,\u001b[0m \u001b[0mparams\u001b[0m\u001b[0;34m=\u001b[0m\u001b[0mparams\u001b[0m\u001b[0;34m,\u001b[0m \u001b[0mversion\u001b[0m\u001b[0;34m=\u001b[0m\u001b[0mversion\u001b[0m\u001b[0;34m)\u001b[0m\u001b[0;34m\u001b[0m\u001b[0;34m\u001b[0m\u001b[0m\n\u001b[0m\u001b[1;32m    279\u001b[0m \u001b[0;34m\u001b[0m\u001b[0m\n\u001b[1;32m    280\u001b[0m     \u001b[0;32mdef\u001b[0m \u001b[0mpost\u001b[0m\u001b[0;34m(\u001b[0m\u001b[0mself\u001b[0m\u001b[0;34m,\u001b[0m \u001b[0mendpoint\u001b[0m\u001b[0;34m,\u001b[0m \u001b[0mparams\u001b[0m\u001b[0;34m=\u001b[0m\u001b[0;32mNone\u001b[0m\u001b[0;34m,\u001b[0m \u001b[0mversion\u001b[0m\u001b[0;34m=\u001b[0m\u001b[0;34m'1.1'\u001b[0m\u001b[0;34m,\u001b[0m \u001b[0mjson_encoded\u001b[0m\u001b[0;34m=\u001b[0m\u001b[0;32mFalse\u001b[0m\u001b[0;34m)\u001b[0m\u001b[0;34m:\u001b[0m\u001b[0;34m\u001b[0m\u001b[0;34m\u001b[0m\u001b[0m\n",
            "\u001b[0;32m/usr/local/lib/python3.7/dist-packages/twython/api.py\u001b[0m in \u001b[0;36mrequest\u001b[0;34m(self, endpoint, method, params, version, json_encoded)\u001b[0m\n\u001b[1;32m    270\u001b[0m \u001b[0;34m\u001b[0m\u001b[0m\n\u001b[1;32m    271\u001b[0m         content = self._request(url, method=method, params=params,\n\u001b[0;32m--> 272\u001b[0;31m                                 api_call=url, json_encoded=json_encoded)\n\u001b[0m\u001b[1;32m    273\u001b[0m \u001b[0;34m\u001b[0m\u001b[0m\n\u001b[1;32m    274\u001b[0m         \u001b[0;32mreturn\u001b[0m \u001b[0mcontent\u001b[0m\u001b[0;34m\u001b[0m\u001b[0;34m\u001b[0m\u001b[0m\n",
            "\u001b[0;32m/usr/local/lib/python3.7/dist-packages/twython/api.py\u001b[0m in \u001b[0;36m_request\u001b[0;34m(self, url, method, params, api_call, json_encoded)\u001b[0m\n\u001b[1;32m    202\u001b[0m                 \u001b[0merror_message\u001b[0m\u001b[0;34m,\u001b[0m\u001b[0;34m\u001b[0m\u001b[0;34m\u001b[0m\u001b[0m\n\u001b[1;32m    203\u001b[0m                 \u001b[0merror_code\u001b[0m\u001b[0;34m=\u001b[0m\u001b[0mresponse\u001b[0m\u001b[0;34m.\u001b[0m\u001b[0mstatus_code\u001b[0m\u001b[0;34m,\u001b[0m\u001b[0;34m\u001b[0m\u001b[0;34m\u001b[0m\u001b[0m\n\u001b[0;32m--> 204\u001b[0;31m                 retry_after=response.headers.get('X-Rate-Limit-Reset'))\n\u001b[0m\u001b[1;32m    205\u001b[0m         \u001b[0mcontent\u001b[0m \u001b[0;34m=\u001b[0m \u001b[0;34m''\u001b[0m\u001b[0;34m\u001b[0m\u001b[0;34m\u001b[0m\u001b[0m\n\u001b[1;32m    206\u001b[0m         \u001b[0;32mtry\u001b[0m\u001b[0;34m:\u001b[0m\u001b[0;34m\u001b[0m\u001b[0;34m\u001b[0m\u001b[0m\n",
            "\u001b[0;31mTwythonError\u001b[0m: Twitter API returned a 403 (Forbidden), User has been suspended."
          ]
        }
      ]
    },
    {
      "cell_type": "code",
      "metadata": {
        "colab": {
          "base_uri": "https://localhost:8080/",
          "height": 359
        },
        "id": "tKHCkUK9F2v5",
        "outputId": "a7fd6737-4a09-44e1-8f6c-d3e717008cc5"
      },
      "source": [
        "for i in range (1):\n",
        "  tweet = twitter.show_status(id=id_list[i])\n",
        "  tweet_data['features']=tweet['text']\n",
        "\n",
        "tweet_data.head(10)"
      ],
      "execution_count": null,
      "outputs": [
        {
          "output_type": "execute_result",
          "data": {
            "text/html": [
              "<div>\n",
              "<style scoped>\n",
              "    .dataframe tbody tr th:only-of-type {\n",
              "        vertical-align: middle;\n",
              "    }\n",
              "\n",
              "    .dataframe tbody tr th {\n",
              "        vertical-align: top;\n",
              "    }\n",
              "\n",
              "    .dataframe thead th {\n",
              "        text-align: right;\n",
              "    }\n",
              "</style>\n",
              "<table border=\"1\" class=\"dataframe\">\n",
              "  <thead>\n",
              "    <tr style=\"text-align: right;\">\n",
              "      <th></th>\n",
              "      <th>Unnamed: 0</th>\n",
              "      <th>tweet_id</th>\n",
              "      <th>label</th>\n",
              "      <th>features</th>\n",
              "    </tr>\n",
              "  </thead>\n",
              "  <tbody>\n",
              "    <tr>\n",
              "      <th>0</th>\n",
              "      <td>0</td>\n",
              "      <td>1241025578527903750</td>\n",
              "      <td>0</td>\n",
              "      <td>For the average American the best way to tell ...</td>\n",
              "    </tr>\n",
              "    <tr>\n",
              "      <th>1</th>\n",
              "      <td>1</td>\n",
              "      <td>1240467080954228737</td>\n",
              "      <td>0</td>\n",
              "      <td>For the average American the best way to tell ...</td>\n",
              "    </tr>\n",
              "    <tr>\n",
              "      <th>2</th>\n",
              "      <td>2</td>\n",
              "      <td>1240716889162018816</td>\n",
              "      <td>0</td>\n",
              "      <td>For the average American the best way to tell ...</td>\n",
              "    </tr>\n",
              "    <tr>\n",
              "      <th>3</th>\n",
              "      <td>3</td>\n",
              "      <td>1241062514886090754</td>\n",
              "      <td>0</td>\n",
              "      <td>For the average American the best way to tell ...</td>\n",
              "    </tr>\n",
              "    <tr>\n",
              "      <th>4</th>\n",
              "      <td>4</td>\n",
              "      <td>1241447017945223169</td>\n",
              "      <td>1</td>\n",
              "      <td>For the average American the best way to tell ...</td>\n",
              "    </tr>\n",
              "    <tr>\n",
              "      <th>5</th>\n",
              "      <td>5</td>\n",
              "      <td>1241637320325029889</td>\n",
              "      <td>1</td>\n",
              "      <td>For the average American the best way to tell ...</td>\n",
              "    </tr>\n",
              "    <tr>\n",
              "      <th>6</th>\n",
              "      <td>6</td>\n",
              "      <td>1241519420628963330</td>\n",
              "      <td>0</td>\n",
              "      <td>For the average American the best way to tell ...</td>\n",
              "    </tr>\n",
              "    <tr>\n",
              "      <th>7</th>\n",
              "      <td>7</td>\n",
              "      <td>1242137430322446344</td>\n",
              "      <td>1</td>\n",
              "      <td>For the average American the best way to tell ...</td>\n",
              "    </tr>\n",
              "    <tr>\n",
              "      <th>8</th>\n",
              "      <td>8</td>\n",
              "      <td>1240717039377022977</td>\n",
              "      <td>1</td>\n",
              "      <td>For the average American the best way to tell ...</td>\n",
              "    </tr>\n",
              "    <tr>\n",
              "      <th>9</th>\n",
              "      <td>9</td>\n",
              "      <td>1240334979701395458</td>\n",
              "      <td>0</td>\n",
              "      <td>For the average American the best way to tell ...</td>\n",
              "    </tr>\n",
              "  </tbody>\n",
              "</table>\n",
              "</div>"
            ],
            "text/plain": [
              "   Unnamed: 0  ...                                           features\n",
              "0           0  ...  For the average American the best way to tell ...\n",
              "1           1  ...  For the average American the best way to tell ...\n",
              "2           2  ...  For the average American the best way to tell ...\n",
              "3           3  ...  For the average American the best way to tell ...\n",
              "4           4  ...  For the average American the best way to tell ...\n",
              "5           5  ...  For the average American the best way to tell ...\n",
              "6           6  ...  For the average American the best way to tell ...\n",
              "7           7  ...  For the average American the best way to tell ...\n",
              "8           8  ...  For the average American the best way to tell ...\n",
              "9           9  ...  For the average American the best way to tell ...\n",
              "\n",
              "[10 rows x 4 columns]"
            ]
          },
          "metadata": {
            "tags": []
          },
          "execution_count": 44
        }
      ]
    },
    {
      "cell_type": "code",
      "metadata": {
        "id": "zLGHZSpZEBpW"
      },
      "source": [
        "twitter = Twython(\n",
        "    consumer_key, consumer_secret,\n",
        "    access_token, access_token_secret)\n",
        "\n",
        "tweet = twitter.show_status(id=1241025578527903750)"
      ],
      "execution_count": null,
      "outputs": []
    },
    {
      "cell_type": "code",
      "metadata": {
        "colab": {
          "base_uri": "https://localhost:8080/",
          "height": 35
        },
        "id": "MxjWuhm1ElTy",
        "outputId": "ffe11974-e6ad-4109-c8bc-38a64abbac95"
      },
      "source": [
        "tweet['text']"
      ],
      "execution_count": null,
      "outputs": [
        {
          "output_type": "execute_result",
          "data": {
            "application/vnd.google.colaboratory.intrinsic+json": {
              "type": "string"
            },
            "text/plain": [
              "'For the average American the best way to tell if you have covid-19 is to cough in a rich person’s face and wait for their test results'"
            ]
          },
          "metadata": {
            "tags": []
          },
          "execution_count": 9
        }
      ]
    },
    {
      "cell_type": "code",
      "metadata": {
        "id": "P6CiZkiZ4nCQ"
      },
      "source": [
        "auth = tweepy.OAuthHandler(consumer_key, consumer_secret)\n",
        "auth.set_access_token(access_token,access_token_secret)\n",
        "api = tweepy.API(auth)"
      ],
      "execution_count": null,
      "outputs": []
    },
    {
      "cell_type": "code",
      "metadata": {
        "id": "vpiFWLJZ4o0v"
      },
      "source": [
        "cursor = tweepy.Cursor(api.user_timeline, id='elonmusk', tweet_mode=\"extended\").items(1)"
      ],
      "execution_count": null,
      "outputs": []
    },
    {
      "cell_type": "code",
      "metadata": {
        "colab": {
          "base_uri": "https://localhost:8080/",
          "height": 214
        },
        "id": "23TpWTV-SnJn",
        "outputId": "1281f304-60c2-455f-d766-3fae4bfadd74"
      },
      "source": [
        "d = []\n",
        "for i in range(n):\n",
        "  cursor = tweepy.Cursor(api.user_timeline, id=id_list[i], tweet_mode=\"extended\")\n",
        "  for i in cursor:\n",
        "    d.append(i.full_text)\n"
      ],
      "execution_count": null,
      "outputs": [
        {
          "output_type": "error",
          "ename": "TypeError",
          "evalue": "ignored",
          "traceback": [
            "\u001b[0;31m---------------------------------------------------------------------------\u001b[0m",
            "\u001b[0;31mTypeError\u001b[0m                                 Traceback (most recent call last)",
            "\u001b[0;32m<ipython-input-49-83c317f057d4>\u001b[0m in \u001b[0;36m<module>\u001b[0;34m()\u001b[0m\n\u001b[1;32m      2\u001b[0m \u001b[0;32mfor\u001b[0m \u001b[0mi\u001b[0m \u001b[0;32min\u001b[0m \u001b[0mrange\u001b[0m\u001b[0;34m(\u001b[0m\u001b[0mn\u001b[0m\u001b[0;34m)\u001b[0m\u001b[0;34m:\u001b[0m\u001b[0;34m\u001b[0m\u001b[0;34m\u001b[0m\u001b[0m\n\u001b[1;32m      3\u001b[0m   \u001b[0mcursor\u001b[0m \u001b[0;34m=\u001b[0m \u001b[0mtweepy\u001b[0m\u001b[0;34m.\u001b[0m\u001b[0mCursor\u001b[0m\u001b[0;34m(\u001b[0m\u001b[0mapi\u001b[0m\u001b[0;34m.\u001b[0m\u001b[0muser_timeline\u001b[0m\u001b[0;34m,\u001b[0m \u001b[0mid\u001b[0m\u001b[0;34m=\u001b[0m\u001b[0mid_list\u001b[0m\u001b[0;34m[\u001b[0m\u001b[0mi\u001b[0m\u001b[0;34m]\u001b[0m\u001b[0;34m,\u001b[0m \u001b[0mtweet_mode\u001b[0m\u001b[0;34m=\u001b[0m\u001b[0;34m\"extended\"\u001b[0m\u001b[0;34m)\u001b[0m\u001b[0;34m\u001b[0m\u001b[0;34m\u001b[0m\u001b[0m\n\u001b[0;32m----> 4\u001b[0;31m   \u001b[0;32mfor\u001b[0m \u001b[0mi\u001b[0m \u001b[0;32min\u001b[0m \u001b[0mcursor\u001b[0m\u001b[0;34m:\u001b[0m\u001b[0;34m\u001b[0m\u001b[0;34m\u001b[0m\u001b[0m\n\u001b[0m\u001b[1;32m      5\u001b[0m     \u001b[0md\u001b[0m\u001b[0;34m.\u001b[0m\u001b[0mappend\u001b[0m\u001b[0;34m(\u001b[0m\u001b[0mi\u001b[0m\u001b[0;34m.\u001b[0m\u001b[0mfull_text\u001b[0m\u001b[0;34m)\u001b[0m\u001b[0;34m\u001b[0m\u001b[0;34m\u001b[0m\u001b[0m\n",
            "\u001b[0;31mTypeError\u001b[0m: 'Cursor' object is not iterable"
          ]
        }
      ]
    },
    {
      "cell_type": "code",
      "metadata": {
        "colab": {
          "base_uri": "https://localhost:8080/"
        },
        "id": "qAfDsCOq4rAE",
        "outputId": "344d6f0f-cb45-4566-a4a5-dc56a0024098"
      },
      "source": [
        "cursor"
      ],
      "execution_count": null,
      "outputs": [
        {
          "output_type": "execute_result",
          "data": {
            "text/plain": [
              "<tweepy.cursor.ItemIterator at 0x7f4a5a21c450>"
            ]
          },
          "metadata": {
            "tags": []
          },
          "execution_count": 23
        }
      ]
    },
    {
      "cell_type": "code",
      "metadata": {
        "id": "NHutiPKd4usR",
        "colab": {
          "base_uri": "https://localhost:8080/"
        },
        "outputId": "dd6dc412-f984-4948-f755-a9054603e8a5"
      },
      "source": [
        "\n",
        "for i in cursor:\n",
        "  print(\"#####\")\n",
        "  print(i.full_text)"
      ],
      "execution_count": null,
      "outputs": [
        {
          "output_type": "stream",
          "text": [
            "#####\n",
            "@RenataKonkoly He was great on many levels https://t.co/exrZ1G9Rqk\n"
          ],
          "name": "stdout"
        }
      ]
    },
    {
      "cell_type": "code",
      "metadata": {
        "colab": {
          "base_uri": "https://localhost:8080/"
        },
        "id": "ocy5m2vA4w0J",
        "outputId": "0f0cba4c-f71b-4950-89eb-2c3d090b72be"
      },
      "source": [
        "print(i.full_text)"
      ],
      "execution_count": null,
      "outputs": [
        {
          "output_type": "stream",
          "text": [
            "@RenataKonkoly He was great on many levels https://t.co/exrZ1G9Rqk\n"
          ],
          "name": "stdout"
        }
      ]
    },
    {
      "cell_type": "code",
      "metadata": {
        "id": "HkyCNP8p4zDw"
      },
      "source": [
        "i.full_text\n",
        "l = []\n",
        "l.append(i.full_text)"
      ],
      "execution_count": null,
      "outputs": []
    },
    {
      "cell_type": "code",
      "metadata": {
        "id": "Brpmk3YV5DSm"
      },
      "source": [
        "token1 = Tokenizer(num_words=max_words, lower=True, split=' ')\n",
        "token1.fit_on_texts(l)\n",
        "sequences1 = token1.texts_to_sequences(l)\n",
        "train_sequences_padded1 = pad_sequences(sequences1, maxlen = max_len)"
      ],
      "execution_count": null,
      "outputs": []
    },
    {
      "cell_type": "code",
      "metadata": {
        "colab": {
          "base_uri": "https://localhost:8080/"
        },
        "id": "6C9CNc7q5oFP",
        "outputId": "b9914ab1-30ad-46b7-9d2d-81f2eaccde28"
      },
      "source": [
        "len(train_sequences_padded1)"
      ],
      "execution_count": null,
      "outputs": [
        {
          "output_type": "execute_result",
          "data": {
            "text/plain": [
              "1"
            ]
          },
          "metadata": {
            "tags": []
          },
          "execution_count": 29
        }
      ]
    },
    {
      "cell_type": "code",
      "metadata": {
        "colab": {
          "base_uri": "https://localhost:8080/"
        },
        "id": "ihk1RbM2Tgpj",
        "outputId": "1772df87-f1b8-42b3-bb7d-02c8f0e8c43b"
      },
      "source": [
        "sequences1"
      ],
      "execution_count": null,
      "outputs": [
        {
          "output_type": "execute_result",
          "data": {
            "text/plain": [
              "[[1, 2, 3, 4, 5, 6, 7, 8, 9, 10, 11]]"
            ]
          },
          "metadata": {
            "tags": []
          },
          "execution_count": 30
        }
      ]
    },
    {
      "cell_type": "code",
      "metadata": {
        "id": "lCR-Vi3V5vFG"
      },
      "source": [
        ""
      ],
      "execution_count": null,
      "outputs": []
    },
    {
      "cell_type": "code",
      "metadata": {
        "colab": {
          "base_uri": "https://localhost:8080/"
        },
        "id": "Mn6FsEqJ5O07",
        "outputId": "8de0ba2c-c603-46c9-96a0-ac4285a86080"
      },
      "source": [
        "pred = model.predict_classes(train_sequences_padded1)"
      ],
      "execution_count": null,
      "outputs": [
        {
          "output_type": "stream",
          "text": [
            "/usr/local/lib/python3.7/dist-packages/tensorflow/python/keras/engine/sequential.py:450: UserWarning: `model.predict_classes()` is deprecated and will be removed after 2021-01-01. Please use instead:* `np.argmax(model.predict(x), axis=-1)`,   if your model does multi-class classification   (e.g. if it uses a `softmax` last-layer activation).* `(model.predict(x) > 0.5).astype(\"int32\")`,   if your model does binary classification   (e.g. if it uses a `sigmoid` last-layer activation).\n",
            "  warnings.warn('`model.predict_classes()` is deprecated and '\n"
          ],
          "name": "stderr"
        }
      ]
    },
    {
      "cell_type": "code",
      "metadata": {
        "id": "526SvV5G5uD8",
        "colab": {
          "base_uri": "https://localhost:8080/"
        },
        "outputId": "abd71f18-cbdf-4e19-b2e4-a9573d47e7aa"
      },
      "source": [
        "pred"
      ],
      "execution_count": null,
      "outputs": [
        {
          "output_type": "execute_result",
          "data": {
            "text/plain": [
              "array([[1]], dtype=int32)"
            ]
          },
          "metadata": {
            "tags": []
          },
          "execution_count": 32
        }
      ]
    }
  ]
}